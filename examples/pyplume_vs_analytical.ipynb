{
 "cells": [
  {
   "cell_type": "markdown",
   "metadata": {},
   "source": [
    "# Using pyplume with uniform ambient conditions\n",
    "\n",
    "\n",
    "This example demonstrates how to use **pyplume** to calculate a solution to the plume equations in a uniform ambient stratification. To validate the model we'll also calculate an analytical solution using the equations presented in [Slater et al. (2016)](https://doi.org/10.1175/JPO-D-15-0132.1) and compare the results.\n",
    "\n",
    "First of all, do some generic imports and set matplotlib as inline since we're in a jupyter notebook."
   ]
  },
  {
   "cell_type": "code",
   "execution_count": 1,
   "metadata": {},
   "outputs": [],
   "source": [
    "import math\n",
    "import numpy as np\n",
    "import matplotlib.pyplot as plt\n",
    "%matplotlib inline"
   ]
  },
  {
   "cell_type": "markdown",
   "metadata": {},
   "source": [
    "And some more specific imports. We'll use the **gsw** package to make it easy to calculate water properties like density using the latest TEOS-10 standard. And of course we need **pyplume** too. In this case we also pull in *const* which contains the constants which **pyplume** uses so we can use the same ones in the analytical solution."
   ]
  },
  {
   "cell_type": "code",
   "execution_count": 2,
   "metadata": {},
   "outputs": [],
   "source": [
    "import gsw\n",
    "\n",
    "# This is necessary in binder \n",
    "# Or if pyplume isn't in your pythonpath and you launched the notebook from the examples directory\n",
    "import sys\n",
    "sys.path.append('..')\n",
    "import pyplume, const\n",
    "\n",
    "# If pyplume is a package in your python path, you should use this line instead:\n",
    "#from pyplume import pyplume, const"
   ]
  },
  {
   "cell_type": "markdown",
   "metadata": {},
   "source": [
    "## Model setup\n",
    "\n",
    "In theory, you *should* be able to experiment with changing any values in the Model Setup section without breaking the model. Try it and let me know if/how you manage to break it!\n",
    "\n",
    "First set the discharge at the inlet ($Q_0$) in m$^3$s$^{-1}$, here we'll use 10 m$^3$s$^{-1}$."
   ]
  },
  {
   "cell_type": "code",
   "execution_count": 3,
   "metadata": {},
   "outputs": [],
   "source": [
    "q_0 = 10."
   ]
  },
  {
   "cell_type": "markdown",
   "metadata": {},
   "source": [
    "Now set the water depth in metres, let's take a big glacier in Greenland with a 700 metre deep terminus."
   ]
  },
  {
   "cell_type": "code",
   "execution_count": 4,
   "metadata": {},
   "outputs": [],
   "source": [
    "h_w = 700."
   ]
  },
  {
   "cell_type": "markdown",
   "metadata": {},
   "source": [
    "We want a uniform ambient temperature and salinity, set the values here and we'll create the actual profile below."
   ]
  },
  {
   "cell_type": "code",
   "execution_count": 5,
   "metadata": {},
   "outputs": [],
   "source": [
    "t_a = 3.\n",
    "s_a = 33."
   ]
  },
  {
   "cell_type": "markdown",
   "metadata": {},
   "source": [
    "*pyplume.calc_plume()* has default initial conditions for temperature and salinity, but let's explicitly define them here to ensure the analytical solution is consistent."
   ]
  },
  {
   "cell_type": "code",
   "execution_count": 6,
   "metadata": {},
   "outputs": [],
   "source": [
    "t_0 = 1.0e-3\n",
    "s_0 = 1.0e-3"
   ]
  },
  {
   "cell_type": "markdown",
   "metadata": {},
   "source": [
    "## Initialise a uniform ambient temperature and salinity profile\n",
    "\n",
    "First we make a pressure array which is a little longer than the depth, to be on the safe side."
   ]
  },
  {
   "cell_type": "code",
   "execution_count": 7,
   "metadata": {},
   "outputs": [],
   "source": [
    "pressure = np.arange(0, h_w + 10., 1.)"
   ]
  },
  {
   "cell_type": "markdown",
   "metadata": {},
   "source": [
    "Then we use the ambient temperature and salinity properties (which were set above) to create synthetic profiles of temperature and salinity in a **pyplume** *Ambient* object called *ambient*."
   ]
  },
  {
   "cell_type": "code",
   "execution_count": 8,
   "metadata": {},
   "outputs": [],
   "source": [
    "ambient = pyplume.Ambient(h_w, np.ones(pressure.shape) * s_a,\n",
    "                               np.ones(pressure.shape) * t_a,\n",
    "                               pressure)"
   ]
  },
  {
   "cell_type": "markdown",
   "metadata": {},
   "source": [
    "## Set up the initial conditions for the models\n",
    "\n",
    "*pyplume.calc_plume()* requires the velocity ($u_0$) and radius ($b_0$) at the inlet. \n",
    "\n",
    "These can usually be calculated in **pyplume** using *b_0, u_0 = pyplume.inlet(h_i, h_w, q)* but the analytical solution used here assumes $\\Gamma_0=1$, so to be consistent we'll calculate them using the same assumption.\n",
    "\n",
    "First of all, we need the pressure at the inlet ($p_0$). Our *ambient* object has a handy *get_pres_z()* method to get this easily. $z$ is the height above the source, so at the inlet this should be 0."
   ]
  },
  {
   "cell_type": "code",
   "execution_count": 9,
   "metadata": {},
   "outputs": [],
   "source": [
    "p_0 = ambient.get_pres_z(0)"
   ]
  },
  {
   "cell_type": "markdown",
   "metadata": {},
   "source": [
    "Then we need the density of the plume at the inlet ($\\rho_{p0}$), which we can get with *gsw.rho()* and our initial temperature and salinity, which we defined above."
   ]
  },
  {
   "cell_type": "code",
   "execution_count": 10,
   "metadata": {},
   "outputs": [],
   "source": [
    "rho_p_0 = gsw.rho(s_0, t_0, p_0)"
   ]
  },
  {
   "cell_type": "markdown",
   "metadata": {},
   "source": [
    "And we can get the ambient density at the inlet ($\\rho_{a0}$) with another handy *ambient* method: *get_rho_z()*."
   ]
  },
  {
   "cell_type": "code",
   "execution_count": 11,
   "metadata": {},
   "outputs": [],
   "source": [
    "rho_a_0 = ambient.get_rho_z(0)"
   ]
  },
  {
   "cell_type": "markdown",
   "metadata": {},
   "source": [
    "Now we need the reduced gravity ($g'_0$) at the inlet, so we use the following equation\n",
    "\n",
    "\\begin{equation}\n",
    "g'_0 = -g \\frac{\\rho_{p0} - \\rho_{a0}}{\\rho_{ref}},\n",
    "\\end{equation}\n",
    "\n",
    "where $g$ is 9.81 m/s (set in *pyplume.const*) and $\\rho_{ref}$ is a reference density which we also take from *pyplume.const*."
   ]
  },
  {
   "cell_type": "code",
   "execution_count": 12,
   "metadata": {},
   "outputs": [],
   "source": [
    "g_dash_0 = -const.G * (rho_p_0 - rho_a_0) / const.RHO_REF"
   ]
  },
  {
   "cell_type": "markdown",
   "metadata": {},
   "source": [
    "Then we use the following equations to get the radius and velocity of the inlet:\n",
    "\n",
    "\\begin{equation}\n",
    "b_0 = \\left( \\frac{32 \\alpha \\Gamma_0 Q^2_0}{5 \\pi^2 g'_0} \\right) ^{1/5} \n",
    "~\\mathrm{and}~\n",
    "u_0 = \\frac{2}{\\pi} \\left( \\frac{5 \\pi^2 g'_0}{32 \\alpha \\Gamma_0} \\right) ^{2/5} Q^{1/5}_0,\n",
    "\\end{equation}\n",
    "\n",
    "where, as stated above, we assume $\\Gamma_0 = 1$ and $\\alpha$ is the entrainment coefficient which we take from *pyplume.const*. "
   ]
  },
  {
   "cell_type": "code",
   "execution_count": 13,
   "metadata": {},
   "outputs": [],
   "source": [
    "gamma_0 = 1.\n",
    "\n",
    "b_0 = ((32. * const.E_0 * gamma_0 * q_0**2.) / (5 * math.pi**2. * g_dash_0))**(1./5.)\n",
    "\n",
    "u_0 = (2./math.pi) * ((5 * math.pi**2. * g_dash_0) / (32. * const.E_0 * gamma_0))**(2./5.) * q_0**(1./5.)"
   ]
  },
  {
   "cell_type": "markdown",
   "metadata": {},
   "source": [
    "## Calculate steady state plume solution\n",
    "\n",
    "Now we're ready and we can use *pyplume.calc_plume()* to solve the plume equations numerically."
   ]
  },
  {
   "cell_type": "code",
   "execution_count": 14,
   "metadata": {},
   "outputs": [],
   "source": [
    "num_soln = pyplume.calc_plume(u_0, b_0, h_w, ambient, \n",
    "                              t_0 = t_0, s_0 = s_0, MELT = False)"
   ]
  },
  {
   "cell_type": "markdown",
   "metadata": {},
   "source": [
    "*pyplume.calc_plume()* returns a dict, let's see what's in there:"
   ]
  },
  {
   "cell_type": "code",
   "execution_count": 15,
   "metadata": {},
   "outputs": [
    {
     "name": "stdout",
     "output_type": "stream",
     "text": [
      "['s_p', 'z', 't_a', 's_a', 'u_p', 'b_p', 't_p', 'm_p']\n"
     ]
    }
   ],
   "source": [
    "print(num_soln.keys())"
   ]
  },
  {
   "cell_type": "markdown",
   "metadata": {},
   "source": [
    "We can check the definition of these in the *pyplume.calc_plume* docstring:"
   ]
  },
  {
   "cell_type": "code",
   "execution_count": 16,
   "metadata": {},
   "outputs": [
    {
     "name": "stdout",
     "output_type": "stream",
     "text": [
      "Solve the plume equations for the specified initial conditions\n",
      "\n",
      "\n",
      "    Args:\n",
      "        u_0 (float) :               velocity at the source (m/s)\n",
      "        b_0 (float) :               radius at the source (m)\n",
      "        h_w (float) :               total water column depth (m)\n",
      "        ambient (Ambient object) :  containing temperature and salinity profiles\n",
      "        t_0 (float, optional) :     temperature at the plume source (deg C, default=1.0e-3)\n",
      "        s_0 (float, optional) :     salinity at the plume source (kg/m3, default=1.0e-3)\n",
      "        MELT (boolean, optional) :  whether to include the melt feedback (default=True)\n",
      "\n",
      "    Returns:\n",
      "        plume (dict) : dictionary containing:\n",
      "                            'z'     height above source (m)\n",
      "                            'b_p'   plume radius (m)\n",
      "                            'u_p'   vertical velocity (m/s)\n",
      "                            't_p'   temperature (deg C)\n",
      "                            's_p'   salinity (kg/m3)\n",
      "                            'm_p'   melt rate (m/s)\n",
      "                            't_a'   ambient salinity (kg/m3)\n",
      "                            's_a'   ambient temperature (deg C)\n",
      "    \n"
     ]
    }
   ],
   "source": [
    "print(pyplume.calc_plume.__doc__)"
   ]
  },
  {
   "cell_type": "markdown",
   "metadata": {},
   "source": [
    "# Analytical solution\n",
    "\n",
    "Now, let's calculate an analytical solution for the same initial conditions to check everything went well with the integration of the numerical solution.\n",
    "\n",
    "First, initialise a dict for the results."
   ]
  },
  {
   "cell_type": "code",
   "execution_count": 17,
   "metadata": {},
   "outputs": [],
   "source": [
    "ana_soln = {}"
   ]
  },
  {
   "cell_type": "markdown",
   "metadata": {},
   "source": [
    "Then get the same z-coords which were used for the numerical solution."
   ]
  },
  {
   "cell_type": "code",
   "execution_count": 18,
   "metadata": {},
   "outputs": [],
   "source": [
    "ana_soln['z'] = num_soln['z'].copy()"
   ]
  },
  {
   "cell_type": "markdown",
   "metadata": {},
   "source": [
    "Calculate the virtual inlet height, which is an adjustment made to account for the inlet not being an ideal point source, using the following relation:\n",
    "\n",
    "\\begin{equation}\n",
    "z_0 = \\frac{5}{6\\alpha} \\left( \\frac{32\\alpha Q^2_0}{5 \\pi^2 g'_0} \\right) ^{1/5}.\n",
    "\\end{equation}"
   ]
  },
  {
   "cell_type": "code",
   "execution_count": 19,
   "metadata": {},
   "outputs": [],
   "source": [
    "z_virt = (5. / (6. * const.E_0)) * ((32. * const.E_0 * q_0**2.) / (5 * math.pi**2. * g_dash_0))**(1./5.)"
   ]
  },
  {
   "cell_type": "markdown",
   "metadata": {},
   "source": [
    "The following equations provide the analytical solution which we can use to calculate profiles of the radius (*b*), velocity (*u*), temperature (*T*) and salinity (*S*) within the plume:\n",
    "\n",
    "\\begin{equation}\n",
    "b = \\frac{6}{5} \\alpha (z + z_0),\n",
    "~~\n",
    "u = \\frac{5}{6\\alpha} \\left( \\frac{9 \\alpha Q_0 g'_0}{5\\pi} \\right) ^{1/3} (z + z_0)^{-1/3},\n",
    "\\end{equation}\n",
    "\n",
    "\\begin{equation}\n",
    "T = T_0 + (T_a - T_0) \\left[ 1- \\left( \\frac{z_0}{z+z_0} \\right) ^{5/3} \\right],\n",
    "~~\\mathrm{and}~~\n",
    "S = S_a \\left[ 1- \\left( \\frac{z_0}{z+z_0} \\right) ^{5/3} \\right].\n",
    "\\end{equation}"
   ]
  },
  {
   "cell_type": "code",
   "execution_count": 20,
   "metadata": {},
   "outputs": [],
   "source": [
    "ana_soln['b_p'] = (6./5.) * const.E_0 * (ana_soln['z'] + z_virt)\n",
    "\n",
    "ana_soln['u_p'] = (5./ (6. * const.E_0)) * ((9. * const.E_0 * q_0 * g_dash_0) / (5. * math.pi))**(1./3.) * (ana_soln['z'] + z_virt)**(-1./3.)\n",
    "\n",
    "ana_soln['t_p'] = t_0 + (t_a - t_0) * (1 - (z_virt / (ana_soln['z'] + z_virt))**(5./3.))\n",
    "\n",
    "ana_soln['s_p'] = s_a * (1 - (z_virt / (ana_soln['z'] + z_virt))**(5./3.))"
   ]
  },
  {
   "cell_type": "markdown",
   "metadata": {},
   "source": [
    "# Results\n",
    "\n",
    "Now we have the results of both models, we can plot a comparison between the numerical and analytical solutions."
   ]
  },
  {
   "cell_type": "code",
   "execution_count": 21,
   "metadata": {
    "scrolled": false
   },
   "outputs": [
    {
     "data": {
      "text/plain": [
       "<matplotlib.text.Text at 0x7efcf1dd2a90>"
      ]
     },
     "execution_count": 21,
     "metadata": {},
     "output_type": "execute_result"
    },
    {
     "data": {
      "image/png": "[encoded data removed]",
      "text/plain": [
       "<matplotlib.figure.Figure at 0x7efcf3f93110>"
      ]
     },
     "metadata": {},
     "output_type": "display_data"
    }
   ],
   "source": [
    "f,ax = plt.subplots(1,4, sharey=True, figsize=(15,8))\n",
    "\n",
    "# radius\n",
    "ax[0].plot(num_soln['b_p'], num_soln['z'], 'r-')\n",
    "ax[0].plot(ana_soln['b_p'], ana_soln['z'], 'b--')\n",
    "ax[0].set_xlim(0, np.nanmax([num_soln['b_p'], ana_soln['b_p']])*1.1)\n",
    "ax[0].set_ylim(0,h_w)\n",
    "ax[0].set_xlabel('Radius (m)')\n",
    "ax[0].set_ylabel('Height above source (m)')\n",
    "\n",
    "# velocity\n",
    "ax[1].plot(num_soln['u_p'], num_soln['z'], 'r-')\n",
    "ax[1].plot(ana_soln['u_p'], ana_soln['z'], 'b--')\n",
    "ax[1].set_xlim(0, np.nanmax([num_soln['u_p'], ana_soln['u_p']])*1.1)\n",
    "ax[1].set_xlabel('Velocity (m/s)')\n",
    "\n",
    "# temperature\n",
    "ax[2].plot(num_soln['t_p'], num_soln['z'], 'r-')\n",
    "ax[2].plot(ana_soln['t_p'], ana_soln['z'], 'b--')\n",
    "ax[2].set_xlim(0, np.nanmax([num_soln['t_p'], ana_soln['t_p']])*1.1)\n",
    "ax[2].set_xlabel('Temperature ($^o$C)')\n",
    "\n",
    "# salinity\n",
    "ax[3].plot(num_soln['s_p'], num_soln['z'], 'r-')\n",
    "ax[3].plot(ana_soln['s_p'], ana_soln['z'], 'b--')\n",
    "ax[3].set_xlim(0, np.nanmax([num_soln['s_p'], ana_soln['s_p']])*1.1)\n",
    "ax[3].set_xlabel('Salinity (g/kg)')"
   ]
  },
  {
   "cell_type": "markdown",
   "metadata": {},
   "source": [
    "Looks pretty good, we can also do some quick stats to see how well our numerical solution is doing compared to the analytical one."
   ]
  },
  {
   "cell_type": "code",
   "execution_count": 22,
   "metadata": {},
   "outputs": [
    {
     "name": "stdout",
     "output_type": "stream",
     "text": [
      "Radius RMSE: 0.18 (m)\n",
      "Velocity RMSE: 0.01 (m/s)\n",
      "Temperature RMSE: 0.02 (°C)\n",
      "Salinity RMSE: 0.01 (g/kg)\n"
     ]
    }
   ],
   "source": [
    "def rmse(a, b):\n",
    "    return np.sqrt(((a - b) ** 2).mean())\n",
    "\n",
    "print(\"Radius RMSE: {:.2f} (m)\".format(rmse(num_soln['b_p'], ana_soln['b_p'])))\n",
    "print(\"Velocity RMSE: {:.2f} (m/s)\".format(rmse(num_soln['u_p'], ana_soln['u_p'])))\n",
    "print(u\"Temperature RMSE: {:.2f} (\\N{DEGREE SIGN}C)\".format(rmse(num_soln['t_p'], ana_soln['t_p'])))\n",
    "print(\"Salinity RMSE: {:.2f} (g/kg)\".format(rmse(num_soln['s_p'], ana_soln['s_p'])))"
   ]
  }
 ],
 "metadata": {
  "kernelspec": {
   "display_name": "Python 2",
   "language": "python",
   "name": "python2"
  },
  "language_info": {
   "codemirror_mode": {
    "name": "ipython",
    "version": 2
   },
   "file_extension": ".py",
   "mimetype": "text/x-python",
   "name": "python",
   "nbconvert_exporter": "python",
   "pygments_lexer": "ipython2",
   "version": "2.7.12"
  }
 },
 "nbformat": 4,
 "nbformat_minor": 2
}
